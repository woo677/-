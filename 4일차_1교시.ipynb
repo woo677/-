{
  "nbformat": 4,
  "nbformat_minor": 0,
  "metadata": {
    "colab": {
      "name": "4일차 1교시.ipynb",
      "provenance": [],
      "authorship_tag": "ABX9TyPg+fRH2gZm7/ctpEqdV9dM",
      "include_colab_link": true
    },
    "kernelspec": {
      "name": "python3",
      "display_name": "Python 3"
    }
  },
  "cells": [
    {
      "cell_type": "markdown",
      "metadata": {
        "id": "view-in-github",
        "colab_type": "text"
      },
      "source": [
        "<a href=\"https://colab.research.google.com/github/woo677/-/blob/master/4%EC%9D%BC%EC%B0%A8_1%EA%B5%90%EC%8B%9C.ipynb\" target=\"_parent\"><img src=\"https://colab.research.google.com/assets/colab-badge.svg\" alt=\"Open In Colab\"/></a>"
      ]
    },
    {
      "cell_type": "code",
      "metadata": {
        "id": "mESnRUSK6wDK",
        "colab_type": "code",
        "colab": {
          "base_uri": "https://localhost:8080/",
          "height": 36
        },
        "outputId": "bb6c59dc-30da-4bf4-acb6-df55b92f7f1a"
      },
      "source": [
        "for i in range(1,11) : \n",
        "  print(i,end='>>')"
      ],
      "execution_count": 2,
      "outputs": [
        {
          "output_type": "stream",
          "text": [
            "1>>2>>3>>4>>5>>6>>7>>8>>9>>10>>"
          ],
          "name": "stdout"
        }
      ]
    },
    {
      "cell_type": "code",
      "metadata": {
        "id": "P4HUSk7i9_Jq",
        "colab_type": "code",
        "colab": {}
      },
      "source": [
        "for i in range(10,-1,2) : \n",
        "  print(i,end='>>')"
      ],
      "execution_count": 0,
      "outputs": []
    },
    {
      "cell_type": "code",
      "metadata": {
        "id": "kOVMIV79-VRH",
        "colab_type": "code",
        "colab": {
          "base_uri": "https://localhost:8080/",
          "height": 111
        },
        "outputId": "738e7212-40fd-434c-d296-1403eabfe1f0"
      },
      "source": [
        "a=[1.3,2.1,4.5,5,5.1]\n",
        "for i in a :\n",
        "  print(a)\n",
        "  "
      ],
      "execution_count": 9,
      "outputs": [
        {
          "output_type": "stream",
          "text": [
            "[1.3, 2.1, 4.5, 5, 5.1]\n",
            "[1.3, 2.1, 4.5, 5, 5.1]\n",
            "[1.3, 2.1, 4.5, 5, 5.1]\n",
            "[1.3, 2.1, 4.5, 5, 5.1]\n",
            "[1.3, 2.1, 4.5, 5, 5.1]\n"
          ],
          "name": "stdout"
        }
      ]
    },
    {
      "cell_type": "code",
      "metadata": {
        "id": "9BCsrw_v-w33",
        "colab_type": "code",
        "colab": {
          "base_uri": "https://localhost:8080/",
          "height": 111
        },
        "outputId": "a66f023f-ee0a-460c-845f-ff6aee4e088c"
      },
      "source": [
        "a=[1.3,2.1,4.5,5,5.1]\n",
        "for i in range(len(a)) :\n",
        "  print(a[i])"
      ],
      "execution_count": 10,
      "outputs": [
        {
          "output_type": "stream",
          "text": [
            "1.3\n",
            "2.1\n",
            "4.5\n",
            "5\n",
            "5.1\n"
          ],
          "name": "stdout"
        }
      ]
    },
    {
      "cell_type": "markdown",
      "metadata": {
        "id": "y6JMgn42_XF3",
        "colab_type": "text"
      },
      "source": [
        "# 문제2\n",
        "for 문을 \n",
        "Hello Python 1"
      ]
    },
    {
      "cell_type": "code",
      "metadata": {
        "id": "uKw_RzmL_oV-",
        "colab_type": "code",
        "colab": {
          "base_uri": "https://localhost:8080/",
          "height": 204
        },
        "outputId": "2d494890-49d5-4ca7-c287-922da99abac2"
      },
      "source": [
        "for i in range(1,11) :\n",
        "  print('Hello Python',i)"
      ],
      "execution_count": 14,
      "outputs": [
        {
          "output_type": "stream",
          "text": [
            "Hello Python 1\n",
            "Hello Python 2\n",
            "Hello Python 3\n",
            "Hello Python 4\n",
            "Hello Python 5\n",
            "Hello Python 6\n",
            "Hello Python 7\n",
            "Hello Python 8\n",
            "Hello Python 9\n",
            "Hello Python 10\n"
          ],
          "name": "stdout"
        }
      ]
    },
    {
      "cell_type": "code",
      "metadata": {
        "id": "cnW2hF6dAJew",
        "colab_type": "code",
        "colab": {
          "base_uri": "https://localhost:8080/",
          "height": 55
        },
        "outputId": "1216c150-0c1f-486b-8873-15a5da84a28c"
      },
      "source": [
        "count=int(input('몇번 반복 >> '))\n",
        "type(count)"
      ],
      "execution_count": 19,
      "outputs": [
        {
          "output_type": "stream",
          "text": [
            "몇번 반복 >> 1\n"
          ],
          "name": "stdout"
        },
        {
          "output_type": "execute_result",
          "data": {
            "text/plain": [
              "int"
            ]
          },
          "metadata": {
            "tags": []
          },
          "execution_count": 19
        }
      ]
    },
    {
      "cell_type": "code",
      "metadata": {
        "id": "CIiTH3eTAhml",
        "colab_type": "code",
        "colab": {
          "base_uri": "https://localhost:8080/",
          "height": 55
        },
        "outputId": "f5670fa2-ce20-4541-faad-a5fb8d9a3c10"
      },
      "source": [
        "count=int(input('몇번 반복 >> '))\n",
        "for i in range(count) :\n",
        "  print('좋아',i+1)"
      ],
      "execution_count": 23,
      "outputs": [
        {
          "output_type": "stream",
          "text": [
            "몇번 반복 >> 1\n",
            "좋아 1\n"
          ],
          "name": "stdout"
        }
      ]
    },
    {
      "cell_type": "code",
      "metadata": {
        "id": "D9QT3wzfA_ES",
        "colab_type": "code",
        "colab": {}
      },
      "source": [
        "a=list(map(int,(input('숫자 입력' ).split())))\n",
        "print(a)"
      ],
      "execution_count": 0,
      "outputs": []
    },
    {
      "cell_type": "code",
      "metadata": {
        "id": "hV47OlV3ChJJ",
        "colab_type": "code",
        "colab": {
          "base_uri": "https://localhost:8080/",
          "height": 92
        },
        "outputId": "63fe057d-e091-4b99-ed4e-a23d4c6f88be"
      },
      "source": [
        "a=list(map(int,(input('숫자 입력' ).split())))\n",
        "sum=0\n",
        "avg=0.0\n",
        "for i in range(len(a)) :\n",
        " sum+=a[i]\n",
        " print(a[i],end='/')\n",
        "print('\\n합계',sum)\n",
        "avg=sum/len(a)\n",
        "print('평균',avg)"
      ],
      "execution_count": 39,
      "outputs": [
        {
          "output_type": "stream",
          "text": [
            "숫자 입력1 2\n",
            "1/2/\n",
            "합계 3\n",
            "평균 1.5\n"
          ],
          "name": "stdout"
        }
      ]
    },
    {
      "cell_type": "code",
      "metadata": {
        "id": "9JnUhVucH4AX",
        "colab_type": "code",
        "colab": {}
      },
      "source": [
        ""
      ],
      "execution_count": 0,
      "outputs": []
    }
  ]
}