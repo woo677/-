{
  "nbformat": 4,
  "nbformat_minor": 0,
  "metadata": {
    "colab": {
      "name": "6일차 1.ipynb",
      "provenance": [],
      "collapsed_sections": [],
      "authorship_tag": "ABX9TyPn01gL1qGh9uO17wJaFPa3",
      "include_colab_link": true
    },
    "kernelspec": {
      "name": "python3",
      "display_name": "Python 3"
    }
  },
  "cells": [
    {
      "cell_type": "markdown",
      "metadata": {
        "id": "view-in-github",
        "colab_type": "text"
      },
      "source": [
        "<a href=\"https://colab.research.google.com/github/woo677/-/blob/master/6%EC%9D%BC%EC%B0%A8_1.ipynb\" target=\"_parent\"><img src=\"https://colab.research.google.com/assets/colab-badge.svg\" alt=\"Open In Colab\"/></a>"
      ]
    },
    {
      "cell_type": "code",
      "metadata": {
        "id": "eG7ebAyV8O3T",
        "colab_type": "code",
        "colab": {
          "base_uri": "https://localhost:8080/",
          "height": 71
        },
        "outputId": "fd144a29-2b9c-4abc-dee6-0c79c82be475"
      },
      "source": [
        "sub=['국','영','정보']\n",
        "for i in range(len(sub)):\n",
        "  print(i+1,'교시',sub[i])"
      ],
      "execution_count": 5,
      "outputs": [
        {
          "output_type": "stream",
          "text": [
            "1 교시 국\n",
            "2 교시 영\n",
            "3 교시 정보\n"
          ],
          "name": "stdout"
        }
      ]
    },
    {
      "cell_type": "code",
      "metadata": {
        "id": "21okekqZ-rzM",
        "colab_type": "code",
        "colab": {
          "base_uri": "https://localhost:8080/",
          "height": 89
        },
        "outputId": "045f57f9-885e-40b1-979d-17dab0a3d9c4"
      },
      "source": [
        "sub=['국','영','수','정보']\n",
        "for i in range(len(sub)):\n",
        "  if sub[i]=='수':\n",
        "   print(i+1,'교시',sub[i],'해당')\n",
        "  else:\n",
        "    print(i+1,'교시',sub[i],'해당없음')"
      ],
      "execution_count": 11,
      "outputs": [
        {
          "output_type": "stream",
          "text": [
            "1 교시 국 해당없음\n",
            "2 교시 영 해당없음\n",
            "3 교시 수 해당\n",
            "4 교시 정보 해당없음\n"
          ],
          "name": "stdout"
        }
      ]
    },
    {
      "cell_type": "code",
      "metadata": {
        "id": "XQqKOwfU_ecd",
        "colab_type": "code",
        "colab": {
          "base_uri": "https://localhost:8080/",
          "height": 89
        },
        "outputId": "01e5a6b0-9424-44dc-ba26-49c8c8ef0455"
      },
      "source": [
        "for i,val in enumerate(sub):\n",
        "  print(i+1, val)"
      ],
      "execution_count": 15,
      "outputs": [
        {
          "output_type": "stream",
          "text": [
            "1 국\n",
            "2 영\n",
            "3 수\n",
            "4 정보\n"
          ],
          "name": "stdout"
        }
      ]
    },
    {
      "cell_type": "code",
      "metadata": {
        "id": "n9T1cbwv_3-Y",
        "colab_type": "code",
        "colab": {
          "base_uri": "https://localhost:8080/",
          "height": 197
        },
        "outputId": "9cc3b72b-4a62-4090-84b0-3179eb3afd9f"
      },
      "source": [
        "for i in range(1,11):\n",
        "  if i%2==0:\n",
        "    print(\"파이썬\")\n",
        "  else:\n",
        "    print('야')"
      ],
      "execution_count": 17,
      "outputs": [
        {
          "output_type": "stream",
          "text": [
            "야\n",
            "파이썬\n",
            "야\n",
            "파이썬\n",
            "야\n",
            "파이썬\n",
            "야\n",
            "파이썬\n",
            "야\n",
            "파이썬\n"
          ],
          "name": "stdout"
        }
      ]
    },
    {
      "cell_type": "code",
      "metadata": {
        "id": "afduPQqWAF_1",
        "colab_type": "code",
        "colab": {}
      },
      "source": [
        ""
      ],
      "execution_count": 0,
      "outputs": []
    }
  ]
}