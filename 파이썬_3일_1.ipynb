{
  "nbformat": 4,
  "nbformat_minor": 0,
  "metadata": {
    "colab": {
      "name": "파이썬 3일 1.ipynb",
      "provenance": [],
      "authorship_tag": "ABX9TyMGfCBppSReZWeEct10OUnE",
      "include_colab_link": true
    },
    "kernelspec": {
      "name": "python3",
      "display_name": "Python 3"
    }
  },
  "cells": [
    {
      "cell_type": "markdown",
      "metadata": {
        "id": "view-in-github",
        "colab_type": "text"
      },
      "source": [
        "<a href=\"https://colab.research.google.com/github/woo677/-/blob/master/%ED%8C%8C%EC%9D%B4%EC%8D%AC_3%EC%9D%BC_1.ipynb\" target=\"_parent\"><img src=\"https://colab.research.google.com/assets/colab-badge.svg\" alt=\"Open In Colab\"/></a>"
      ]
    },
    {
      "cell_type": "markdown",
      "metadata": {
        "id": "CW6mYGiA74xa",
        "colab_type": "text"
      },
      "source": [
        "# Data T"
      ]
    },
    {
      "cell_type": "markdown",
      "metadata": {
        "id": "ux82DkIN4JSD",
        "colab_type": "text"
      },
      "source": [
        "대이터 타입 Dictionary\n",
        "\n",
        "# dic={1:'사람',2:'사란',3:30116}"
      ]
    },
    {
      "cell_type": "code",
      "metadata": {
        "id": "FlQ0WXGs4tE2",
        "colab_type": "code",
        "colab": {}
      },
      "source": [
        "dic={1:'사람',2:'사란',3:30116}"
      ],
      "execution_count": 0,
      "outputs": []
    },
    {
      "cell_type": "code",
      "metadata": {
        "id": "7seTDKXS47Oa",
        "colab_type": "code",
        "outputId": "356a2d0a-a6b6-4796-ada5-8dfeea39b54a",
        "colab": {
          "base_uri": "https://localhost:8080/",
          "height": 35
        }
      },
      "source": [
        "dic[1],dic[3],dic[2]"
      ],
      "execution_count": 0,
      "outputs": [
        {
          "output_type": "execute_result",
          "data": {
            "text/plain": [
              "('사람', 30116, '사란')"
            ]
          },
          "metadata": {
            "tags": []
          },
          "execution_count": 15
        }
      ]
    },
    {
      "cell_type": "code",
      "metadata": {
        "id": "kutMxZHl7Dy5",
        "colab_type": "code",
        "outputId": "2562d718-27c2-4309-9425-4f4e46b28532",
        "colab": {
          "base_uri": "https://localhost:8080/",
          "height": 35
        }
      },
      "source": [
        "dic.get(1)"
      ],
      "execution_count": 0,
      "outputs": [
        {
          "output_type": "execute_result",
          "data": {
            "text/plain": [
              "'사람'"
            ]
          },
          "metadata": {
            "tags": []
          },
          "execution_count": 20
        }
      ]
    },
    {
      "cell_type": "code",
      "metadata": {
        "id": "x2xHLYLJ7Uvs",
        "colab_type": "code",
        "outputId": "ca52308a-57d2-4666-d9b1-5ebe72ad2e33",
        "colab": {
          "base_uri": "https://localhost:8080/",
          "height": 35
        }
      },
      "source": [
        "dic.values()"
      ],
      "execution_count": 0,
      "outputs": [
        {
          "output_type": "execute_result",
          "data": {
            "text/plain": [
              "dict_values(['사람', '사란', 30116])"
            ]
          },
          "metadata": {
            "tags": []
          },
          "execution_count": 22
        }
      ]
    },
    {
      "cell_type": "code",
      "metadata": {
        "id": "d-ByHwuT7eyI",
        "colab_type": "code",
        "outputId": "96bc6fbd-e6d6-4233-88e6-45be1661eb1a",
        "colab": {
          "base_uri": "https://localhost:8080/",
          "height": 35
        }
      },
      "source": [
        "dic.items()"
      ],
      "execution_count": 0,
      "outputs": [
        {
          "output_type": "execute_result",
          "data": {
            "text/plain": [
              "dict_items([(1, '사람'), (2, '사란'), (3, 30116)])"
            ]
          },
          "metadata": {
            "tags": []
          },
          "execution_count": 24
        }
      ]
    },
    {
      "cell_type": "code",
      "metadata": {
        "id": "gsy_YIRS7jrr",
        "colab_type": "code",
        "outputId": "08a723d9-fdd7-4cf4-f713-003440aaf69f",
        "colab": {
          "base_uri": "https://localhost:8080/",
          "height": 35
        }
      },
      "source": [
        "dic.keys()"
      ],
      "execution_count": 0,
      "outputs": [
        {
          "output_type": "execute_result",
          "data": {
            "text/plain": [
              "dict_keys([1, 2, 3])"
            ]
          },
          "metadata": {
            "tags": []
          },
          "execution_count": 25
        }
      ]
    },
    {
      "cell_type": "code",
      "metadata": {
        "id": "GKXodYTn5zEn",
        "colab_type": "code",
        "outputId": "ba18bee4-ba45-4e9c-cc3e-1a4b144c4c28",
        "colab": {
          "base_uri": "https://localhost:8080/",
          "height": 35
        }
      },
      "source": [
        "a='인천정보산업고등학교'\n",
        "type(a)"
      ],
      "execution_count": 0,
      "outputs": [
        {
          "output_type": "execute_result",
          "data": {
            "text/plain": [
              "str"
            ]
          },
          "metadata": {
            "tags": []
          },
          "execution_count": 9
        }
      ]
    },
    {
      "cell_type": "code",
      "metadata": {
        "id": "nY086mTY5-UJ",
        "colab_type": "code",
        "outputId": "0e2ce357-a4d7-46fa-bebc-1bc5e7d830ae",
        "colab": {
          "base_uri": "https://localhost:8080/",
          "height": 35
        }
      },
      "source": [
        "type(dic)"
      ],
      "execution_count": 0,
      "outputs": [
        {
          "output_type": "execute_result",
          "data": {
            "text/plain": [
              "dict"
            ]
          },
          "metadata": {
            "tags": []
          },
          "execution_count": 10
        }
      ]
    },
    {
      "cell_type": "code",
      "metadata": {
        "id": "Agngwl8W6Dsh",
        "colab_type": "code",
        "outputId": "be4a30c2-68cb-4c05-f66f-d0b73e5436ee",
        "colab": {
          "base_uri": "https://localhost:8080/",
          "height": 35
        }
      },
      "source": [
        "b=[1,2,3,4,5]\n",
        "type(b)\n",
        "b[0]=8\n",
        "b"
      ],
      "execution_count": 0,
      "outputs": [
        {
          "output_type": "execute_result",
          "data": {
            "text/plain": [
              "[8, 2, 3, 4, 5]"
            ]
          },
          "metadata": {
            "tags": []
          },
          "execution_count": 12
        }
      ]
    },
    {
      "cell_type": "code",
      "metadata": {
        "id": "7qW12dof6fGQ",
        "colab_type": "code",
        "colab": {}
      },
      "source": [
        "c=1,2,3,4,5\n",
        "type(c)\n",
        "c[0]=8\n",
        "c\n"
      ],
      "execution_count": 0,
      "outputs": []
    },
    {
      "cell_type": "markdown",
      "metadata": {
        "id": "Mw9DnGYh8HMX",
        "colab_type": "text"
      },
      "source": [
        "#문제풀이"
      ]
    },
    {
      "cell_type": "markdown",
      "metadata": {
        "id": "EE8h91_t8UV6",
        "colab_type": "text"
      },
      "source": [
        "#문제1 '*' 문자를 100번 출력하시요"
      ]
    },
    {
      "cell_type": "code",
      "metadata": {
        "id": "S2xGXAXu8v9p",
        "colab_type": "code",
        "outputId": "e5a37e27-c0fd-4aac-d36b-a03b95ccdd38",
        "colab": {
          "base_uri": "https://localhost:8080/",
          "height": 35
        }
      },
      "source": [
        "print('*'*100)"
      ],
      "execution_count": 0,
      "outputs": [
        {
          "output_type": "stream",
          "text": [
            "****************************************************************************************************\n"
          ],
          "name": "stdout"
        }
      ]
    },
    {
      "cell_type": "markdown",
      "metadata": {
        "id": "W-PZ4dj98gbS",
        "colab_type": "text"
      },
      "source": [
        "#문제2 input() 내장함수를 이용하여 id에 입력을 받기"
      ]
    },
    {
      "cell_type": "code",
      "metadata": {
        "id": "u4FJxGCT85zZ",
        "colab_type": "code",
        "outputId": "6c38340b-4327-47cf-ed19-852877a25c27",
        "colab": {
          "base_uri": "https://localhost:8080/",
          "height": 53
        }
      },
      "source": [
        "id=input(\"id 입력\")\n",
        "print(id+'do')"
      ],
      "execution_count": 0,
      "outputs": [
        {
          "output_type": "stream",
          "text": [
            "id 입력dfsf\n",
            "dfsfdo\n"
          ],
          "name": "stdout"
        }
      ]
    },
    {
      "cell_type": "markdown",
      "metadata": {
        "id": "j_F9wstNExbl",
        "colab_type": "text"
      },
      "source": [
        "# 문제3\n",
        "나의 나이를 입력받아 (변수 : gap) 환갑이 되는 나이 년도 구해보기 '당신이 환갑이 되는 년도는 2032년 입니다.출력"
      ]
    },
    {
      "cell_type": "code",
      "metadata": {
        "id": "v6ILT6EmFQI4",
        "colab_type": "code",
        "outputId": "a7894900-6d2c-4f5b-efbb-0eaf0b36a345",
        "colab": {
          "base_uri": "https://localhost:8080/",
          "height": 53
        }
      },
      "source": [
        "gap=input('태어난 년도')\n",
        "print(int (gap)+60)"
      ],
      "execution_count": 0,
      "outputs": [
        {
          "output_type": "stream",
          "text": [
            "태어난 년도2002\n",
            "2062\n"
          ],
          "name": "stdout"
        }
      ]
    },
    {
      "cell_type": "markdown",
      "metadata": {
        "id": "wAVB28DOFQ6d",
        "colab_type": "text"
      },
      "source": [
        "# 문제4 \n",
        "두개의 숫자를 입력\n",
        "\n",
        "a,b =input('두개의 숫자 입력').dplit()"
      ]
    },
    {
      "cell_type": "code",
      "metadata": {
        "id": "RdNxqbD8F2U4",
        "colab_type": "code",
        "colab": {
          "base_uri": "https://localhost:8080/",
          "height": 125
        },
        "outputId": "b34537bd-87f2-431e-88e5-38a90932e3c8"
      },
      "source": [
        "a = input('두개의 숫자 입력').split()\n",
        "b = int(a[0])\n",
        "c = int(a[1])\n",
        "print(b, c)\n",
        "print(b**c)\n",
        "print(b%c)\n",
        "print(b/c)\n",
        "print(b//c)"
      ],
      "execution_count": 32,
      "outputs": [
        {
          "output_type": "stream",
          "text": [
            "두개의 숫자 입력1 3\n",
            "1 3\n",
            "1\n",
            "1\n",
            "0.3333333333333333\n",
            "0\n"
          ],
          "name": "stdout"
        }
      ]
    }
  ]
}