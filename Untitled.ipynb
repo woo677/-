{
 "cells": [
  {
   "cell_type": "markdown",
   "metadata": {},
   "source": [
    "### 자신의 폴더에 이미지를 웹크롤링"
   ]
  },
  {
   "cell_type": "code",
   "execution_count": 2,
   "metadata": {},
   "outputs": [
    {
     "name": "stdout",
     "output_type": "stream",
     "text": [
      "Requirement already satisfied: bs4 in c:\\users\\user\\anaconda3\\lib\\site-packages (0.0.1)\n",
      "Requirement already satisfied: beautifulsoup4 in c:\\users\\user\\anaconda3\\lib\\site-packages (from bs4) (4.8.0)\n",
      "Requirement already satisfied: soupsieve>=1.2 in c:\\users\\user\\anaconda3\\lib\\site-packages (from beautifulsoup4->bs4) (1.9.3)\n",
      "Note: you may need to restart the kernel to use updated packages.\n"
     ]
    }
   ],
   "source": [
    "pip install bs4"
   ]
  },
  {
   "cell_type": "code",
   "execution_count": 55,
   "metadata": {},
   "outputs": [
    {
     "name": "stdout",
     "output_type": "stream",
     "text": [
      "검색어 입력 : 조정석\n",
      "크롤링 개수 입력:4\n",
      "1\n",
      "2\n",
      "3\n",
      "4\n",
      "lmage 크롤링 끝\n"
     ]
    }
   ],
   "source": [
    "from bs4 import BeautifulSoup as bs\n",
    "\n",
    "from urllib.request import urlopen\n",
    "\n",
    "from urllib.parse import quote_plus\n",
    "\n",
    "baseurl='https://search.naver.com/search.naver?where=image&sm=tab_jum&query='\n",
    "\n",
    "plusurl=input('검색어 입력 : ')\n",
    "\n",
    "url=baseurl+quote_plus(plusurl)\n",
    "\n",
    "html=urlopen(url)\n",
    "\n",
    "soup=bs(html,\"html.parser\")\n",
    "\n",
    "num=int(input('크롤링 개수 입력:'))\n",
    "\n",
    "img=soup.find_all(class_='_img')\n",
    "\n",
    "\n",
    "n=1\n",
    "for  i in img:\n",
    "    print(n)\n",
    "    img_url=i['data-source']\n",
    "    with urlopen(img_url)as f:\n",
    "        with open('./img_j/img'+str(n)+'.jpg','wb')as h:\n",
    "            img=f.read()\n",
    "            h.write(img)\n",
    "        \n",
    "    n+=1\n",
    "    \n",
    "    if n>num:\n",
    "        break\n",
    "    \n",
    "print('lmage 크롤링 끝')"
   ]
  }
 ],
 "metadata": {
  "kernelspec": {
   "display_name": "Python 3",
   "language": "python",
   "name": "python3"
  },
  "language_info": {
   "codemirror_mode": {
    "name": "ipython",
    "version": 3
   },
   "file_extension": ".py",
   "mimetype": "text/x-python",
   "name": "python",
   "nbconvert_exporter": "python",
   "pygments_lexer": "ipython3",
   "version": "3.7.4"
  }
 },
 "nbformat": 4,
 "nbformat_minor": 2
}
