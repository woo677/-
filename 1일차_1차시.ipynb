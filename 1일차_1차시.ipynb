{
  "nbformat": 4,
  "nbformat_minor": 0,
  "metadata": {
    "colab": {
      "name": "1일차 1차시.ipynb",
      "provenance": [],
      "authorship_tag": "ABX9TyPr8QNmNWsb0Lj7XP6mdMfC",
      "include_colab_link": true
    },
    "kernelspec": {
      "name": "python3",
      "display_name": "Python 3"
    }
  },
  "cells": [
    {
      "cell_type": "markdown",
      "metadata": {
        "id": "view-in-github",
        "colab_type": "text"
      },
      "source": [
        "<a href=\"https://colab.research.google.com/github/woo677/-/blob/master/1%EC%9D%BC%EC%B0%A8_1%EC%B0%A8%EC%8B%9C.ipynb\" target=\"_parent\"><img src=\"https://colab.research.google.com/assets/colab-badge.svg\" alt=\"Open In Colab\"/></a>"
      ]
    },
    {
      "cell_type": "code",
      "metadata": {
        "id": "Ls_t73lA2iEB",
        "colab_type": "code",
        "colab": {}
      },
      "source": [
        "1"
      ],
      "execution_count": 0,
      "outputs": []
    },
    {
      "cell_type": "code",
      "metadata": {
        "id": "QyWdzv-Q3qwt",
        "colab_type": "code",
        "colab": {}
      },
      "source": [
        ""
      ],
      "execution_count": 0,
      "outputs": []
    },
    {
      "cell_type": "markdown",
      "metadata": {
        "id": "SzeToLhi3dGH",
        "colab_type": "text"
      },
      "source": [
        "1일차"
      ]
    },
    {
      "cell_type": "code",
      "metadata": {
        "id": "iZKc7XL73l8d",
        "colab_type": "code",
        "outputId": "0f5cf06f-b5a4-4d09-d543-ac56f49976ca",
        "colab": {
          "base_uri": "https://localhost:8080/",
          "height": 35
        }
      },
      "source": [
        "print('인천정보산업고')"
      ],
      "execution_count": 0,
      "outputs": [
        {
          "output_type": "stream",
          "text": [
            "인천정보산업고\n"
          ],
          "name": "stdout"
        }
      ]
    },
    {
      "cell_type": "markdown",
      "metadata": {
        "id": "Y8dcErUH4beL",
        "colab_type": "text"
      },
      "source": [
        "사칙연산 \n",
        "a=3, b=2"
      ]
    },
    {
      "cell_type": "code",
      "metadata": {
        "id": "H0v3SQsO4tBb",
        "colab_type": "code",
        "outputId": "c6961f5c-3656-413c-d551-24707d71f4f4",
        "colab": {
          "base_uri": "https://localhost:8080/",
          "height": 125
        }
      },
      "source": [
        "a=3\n",
        "b=2\n",
        "print('a + b = ',a+b)\n",
        "a=3\n",
        "b=2\n",
        "print('a - b = ',a-b)\n",
        "a=3\n",
        "b=2\n",
        "print('a * b = ',a*b)\n",
        "a=3\n",
        "b=2\n",
        "print('a ** b = ',a**b)\n",
        "a=3\n",
        "b=10\n",
        "print('a / b = ',a/b)\n",
        "a=9\n",
        "b=10\n",
        "print('a // b = ',a//b)"
      ],
      "execution_count": 13,
      "outputs": [
        {
          "output_type": "stream",
          "text": [
            "a + b =  5\n",
            "a - b =  1\n",
            "a * b =  6\n",
            "a ** b =  9\n",
            "a / b =  0.3\n",
            "a // b =  0\n"
          ],
          "name": "stdout"
        }
      ]
    },
    {
      "cell_type": "code",
      "metadata": {
        "id": "Y5imDiKM9SeA",
        "colab_type": "code",
        "colab": {}
      },
      "source": [
        ""
      ],
      "execution_count": 0,
      "outputs": []
    }
  ]
}